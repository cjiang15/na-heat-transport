{
 "cells": [
  {
   "cell_type": "code",
   "execution_count": 1,
   "metadata": {},
   "outputs": [
    {
     "name": "stderr",
     "output_type": "stream",
     "text": [
      "/srv/conda/envs/notebook/lib/python3.7/site-packages/intake/source/discovery.py:136: FutureWarning: The drivers ['stac-catalog', 'stac-collection', 'stac-item'] do not specify entry_points and were only discovered via a package scan. This may break in a future release of intake. The packages should be updated.\n",
      "  FutureWarning)\n"
     ]
    }
   ],
   "source": [
    "import os\n",
    "\n",
    "os.environ['NUMPY_EXPERIMENTAL_ARRAY_FUNCTION'] = '0'\n",
    "import xarray as xr\n",
    "from xmitgcm.llcreader.llcmodel import faces_dataset_to_latlon\n",
    "from matplotlib import pyplot as plt\n",
    "%matplotlib inline\n",
    "import numpy as np\n",
    "import intake\n",
    "import fsspec\n",
    "import xmitgcm"
   ]
  },
  {
   "cell_type": "code",
   "execution_count": 2,
   "metadata": {},
   "outputs": [],
   "source": [
    "cat = intake.Catalog(\"https://raw.githubusercontent.com/pangeo-data/pangeo-datastore/master/intake-catalogs/ocean.yaml\")\n",
    "ds_faces1 = cat[\"ECCOv4r3\"].to_dask()\n",
    "ds_faces2 = xr.open_zarr(fsspec.get_mapper('gcs://pangeo-data/ECCO_layers.zarr'))\n",
    "ds_faces=xr.merge((ds_faces1,ds_faces2))"
   ]
  },
  {
   "cell_type": "code",
   "execution_count": 3,
   "metadata": {},
   "outputs": [],
   "source": [
    "#for more info on how this mask works, see https://github.com/ECCO-GROUP/ECCOv4-py/blob/master/ecco_v4_py/get_basin.py\n",
    "all_basins = xmitgcm.utils.read_3d_llc_data('/home/jovyan/basins.data', nx=90,nz=1,nrecs=1,dtype='>f')\n",
    "mask_2d = ds_faces['hFacC'].isel(k=0)\n",
    "basin_mask = 0*mask_2d\n",
    "basin_mask = (basin_mask + mask_2d.where(all_basins.squeeze() == 2,0)+ mask_2d.where(all_basins.squeeze() == 7,0)\n",
    "              + mask_2d.where(all_basins.squeeze() == 9,0)\n",
    "             + mask_2d.where(all_basins.squeeze() == 10,0)\n",
    "             + mask_2d.where(all_basins.squeeze() == 12,0)\n",
    "             + mask_2d.where(all_basins.squeeze() == 18,0)\n",
    "             + mask_2d.where(all_basins.squeeze() == 19,0))\n",
    "basin_mask = (basin_mask * mask_2d).drop(['PHrefC','Z','drF','hFacC','maskC'])\n",
    "ds_with_mask=xr.merge((ds_faces,basin_mask.rename('atl_maskC')))\n",
    "mask_2d = ds_faces['hFacS'].isel(k=0)\n",
    "basin_mask = 0*mask_2d\n",
    "basin_mask = (basin_mask + mask_2d.where(all_basins.squeeze() == 2,0)+ mask_2d.where(all_basins.squeeze() == 7,0)\n",
    "              + mask_2d.where(all_basins.squeeze() == 9,0)\n",
    "             + mask_2d.where(all_basins.squeeze() == 10,0)\n",
    "             + mask_2d.where(all_basins.squeeze() == 12,0)\n",
    "             + mask_2d.where(all_basins.squeeze() == 18,0)\n",
    "             + mask_2d.where(all_basins.squeeze() == 19,0))\n",
    "basin_mask = (basin_mask * mask_2d).drop(['PHrefC','Z','drF','hFacS','maskS'])\n",
    "ds_with_mask2=xr.merge((ds_with_mask,basin_mask.rename('atl_maskS')))\n",
    "mask_2d = ds_faces['hFacW'].isel(k=0)\n",
    "basin_mask = 0*mask_2d\n",
    "basin_mask = (basin_mask + mask_2d.where(all_basins.squeeze() == 2,0)+ mask_2d.where(all_basins.squeeze() == 7,0)\n",
    "              + mask_2d.where(all_basins.squeeze() == 9,0)\n",
    "             + mask_2d.where(all_basins.squeeze() == 10,0)\n",
    "             + mask_2d.where(all_basins.squeeze() == 12,0)\n",
    "             + mask_2d.where(all_basins.squeeze() == 18,0)\n",
    "             + mask_2d.where(all_basins.squeeze() == 19,0))\n",
    "basin_mask = (basin_mask * mask_2d).drop(['PHrefC','Z','drF','hFacW','maskW'])\n",
    "ds_with_mask3=xr.merge((ds_with_mask2,basin_mask.rename('atl_maskW')))"
   ]
  },
  {
   "cell_type": "code",
   "execution_count": 4,
   "metadata": {},
   "outputs": [],
   "source": [
    "ds_ll = faces_dataset_to_latlon(ds_with_mask3, metric_vector_pairs=[('LaHw3RHO','LaHs3RHO'),('atl_maskW','atl_maskS')])#.compute()\n",
    "ds = (ds_ll.reset_coords(drop=True).roll(i=180, roll_coords=False).roll(i_g=180, roll_coords=False))\n",
    "coords = (ds_ll.coords.to_dataset().reset_coords().roll(i=180, roll_coords=False).roll(i_g=180, roll_coords=False))"
   ]
  },
  {
   "cell_type": "code",
   "execution_count": 5,
   "metadata": {},
   "outputs": [],
   "source": [
    "dt = ds.time_snp[1:].load()\n",
    "dt.values = [float(t)/10**9 for t in np.diff(ds.time_snp)]\n",
    "dt = dt.rename({'time_snp':'time'})\n",
    "dt.time.values = ds.time.values[1:-1] \n",
    "ds = ds.assign_coords(dt=dt)\n",
    "ds.dt.attrs = {'units': 's','standard_name': 'dt','coordinate': 'time','long_name': 'time span between snapshots'}"
   ]
  },
  {
   "cell_type": "code",
   "execution_count": 8,
   "metadata": {},
   "outputs": [],
   "source": [
    "v = (ds.LaVH3RHO * coords.dxG * ds.atl_maskS)[:, :, 210, :]\n",
    "volume = (v.mean('time').sum('i')).load()"
   ]
  },
  {
   "cell_type": "code",
   "execution_count": 12,
   "metadata": {},
   "outputs": [],
   "source": [
    "var = volume.cumsum('l3_c')"
   ]
  },
  {
   "cell_type": "code",
   "execution_count": 13,
   "metadata": {},
   "outputs": [],
   "source": [
    "i = np.unravel_index(var.argmax(), var.shape)"
   ]
  },
  {
   "cell_type": "code",
   "execution_count": 14,
   "metadata": {},
   "outputs": [
    {
     "data": {
      "text/plain": [
       "<xarray.DataArray ()>\n",
       "array(15291071.60209075)\n",
       "Coordinates:\n",
       "    l3_c     int64 101\n",
       "    j_g      int64 210"
      ]
     },
     "execution_count": 14,
     "metadata": {},
     "output_type": "execute_result"
    }
   ],
   "source": [
    "var[i]"
   ]
  },
  {
   "cell_type": "code",
   "execution_count": 9,
   "metadata": {},
   "outputs": [
    {
     "data": {
      "text/plain": [
       "[<matplotlib.lines.Line2D at 0x7fe21041e1d0>]"
      ]
     },
     "execution_count": 9,
     "metadata": {},
     "output_type": "execute_result"
    },
    {
     "data": {
      "image/png": "[encoded data removed]",
      "text/plain": [
       "<Figure size 432x288 with 1 Axes>"
      ]
     },
     "metadata": {
      "needs_background": "light"
     },
     "output_type": "display_data"
    }
   ],
   "source": [
    "volume.plot()"
   ]
  },
  {
   "cell_type": "code",
   "execution_count": 11,
   "metadata": {},
   "outputs": [
    {
     "data": {
      "text/plain": [
       "[<matplotlib.lines.Line2D at 0x7fe1ab479128>]"
      ]
     },
     "execution_count": 11,
     "metadata": {},
     "output_type": "execute_result"
    },
    {
     "data": {
      "image/png": "[encoded data removed]",
      "text/plain": [
       "<Figure size 432x288 with 1 Axes>"
      ]
     },
     "metadata": {
      "needs_background": "light"
     },
     "output_type": "display_data"
    }
   ],
   "source": [
    "(volume.cumsum('l3_c')).plot()"
   ]
  },
  {
   "cell_type": "code",
   "execution_count": null,
   "metadata": {},
   "outputs": [],
   "source": []
  }
 ],
 "metadata": {
  "kernelspec": {
   "display_name": "Python 3",
   "language": "python",
   "name": "python3"
  },
  "language_info": {
   "codemirror_mode": {
    "name": "ipython",
    "version": 3
   },
   "file_extension": ".py",
   "mimetype": "text/x-python",
   "name": "python",
   "nbconvert_exporter": "python",
   "pygments_lexer": "ipython3",
   "version": "3.7.3"
  }
 },
 "nbformat": 4,
 "nbformat_minor": 4
}
