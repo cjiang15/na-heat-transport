{
 "cells": [
  {
   "cell_type": "code",
   "execution_count": 1,
   "metadata": {},
   "outputs": [],
   "source": [
    "#Import statements\n",
    "import xarray as xr\n",
    "import numpy as np\n",
    "from matplotlib import pyplot as plt\n",
    "%matplotlib inline\n",
    "from scipy import signal"
   ]
  },
  {
   "cell_type": "code",
   "execution_count": 2,
   "metadata": {},
   "outputs": [
    {
     "name": "stderr",
     "output_type": "stream",
     "text": [
      "/srv/conda/envs/notebook/lib/python3.7/site-packages/intake/source/discovery.py:136: FutureWarning: The drivers ['stac-catalog', 'stac-collection', 'stac-item'] do not specify entry_points and were only discovered via a package scan. This may break in a future release of intake. The packages should be updated.\n",
      "  FutureWarning)\n"
     ]
    }
   ],
   "source": [
    "#Load data \n",
    "import intake\n",
    "cat = intake.Catalog(\"https://raw.githubusercontent.com/pangeo-data/pangeo-datastore/master/intake-catalogs/ocean.yaml\")\n",
    "ds_faces = cat[\"ECCOv4r3\"].to_dask()"
   ]
  },
  {
   "cell_type": "code",
   "execution_count": 3,
   "metadata": {},
   "outputs": [],
   "source": [
    "_facet_strides = ((0,3), (3,6), (6,7), (7,10), (10,13))\n",
    "# whether to reshape each face\n",
    "_facet_reshape = (False, False, False, True, True)\n",
    "_nfaces = 13\n",
    "_nfacets = 5\n",
    "\n",
    "import dask.array as dsa\n",
    "\n",
    "def _uncompressed_facet_index(nfacet, nside):\n",
    "    face_size = nside**2\n",
    "    start = _facet_strides[nfacet][0] * face_size\n",
    "    end = _facet_strides[nfacet][1] * face_size\n",
    "    return start, end\n",
    "\n",
    "def _facet_shape(nfacet, nside):\n",
    "    facet_length = _facet_strides[nfacet][1] - _facet_strides[nfacet][0]\n",
    "    if _facet_reshape[nfacet]:\n",
    "        facet_shape = (1, 1, nside, facet_length*nside)\n",
    "    else:\n",
    "        facet_shape = (1, 1, facet_length*nside, nside)\n",
    "    return facet_shape\n",
    "\n",
    "def _facet_to_faces(data, nfacet):\n",
    "    nz, nf, ny, nx = data.shape\n",
    "    assert nf == 1\n",
    "    facet_length = _facet_strides[nfacet][1] - _facet_strides[nfacet][0]\n",
    "    if _facet_reshape[nfacet]:\n",
    "        new_shape = nz, ny, facet_length, nx / facet_length\n",
    "        data_rs = data.reshape(new_shape)\n",
    "        data_rs = np.moveaxis(data_rs, 2, 1) # dask-safe\n",
    "    else:\n",
    "        new_shape = nz, facet_length, ny / facet_length, nx\n",
    "        data_rs = data.reshape(new_shape)\n",
    "    return data_rs\n",
    "\n",
    "def _faces_to_facets(data, facedim=-3):\n",
    "    assert data.shape[facedim] == _nfaces\n",
    "    facets = []\n",
    "    for nfacet, (strides, reshape) in enumerate(zip(_facet_strides, _facet_reshape)):\n",
    "        face_data = [data[(...,) + (slice(nface, nface+1), slice(None), slice(None))]\n",
    "                     for nface in range(*strides)]\n",
    "        if reshape:\n",
    "            concat_axis = facedim + 2\n",
    "        else:\n",
    "            concat_axis = facedim + 1\n",
    "        # todo: use duck typing for concat\n",
    "        facet_data = dsa.concatenate(face_data, axis=concat_axis)\n",
    "        facets.append(facet_data)\n",
    "    return facets\n",
    "\n",
    "\n",
    "def _rotate_scalar_facet(facet):\n",
    "    #facet_transposed = facet.transpose(0, 1, 3, 2)\n",
    "    facet_transposed = np.moveaxis(facet, -1, -2)\n",
    "    facet_rotated = np.flip(facet_transposed, -2)\n",
    "    return facet_rotated\n",
    "\n",
    "\n",
    "def _facets_to_latlon_scalar(all_facets):\n",
    "    rotated = (all_facets[:2]\n",
    "               + [_rotate_scalar_facet(facet) for facet in all_facets[-2:]])\n",
    "    # drop facet dimension\n",
    "    rotated = [r[..., 0, :, :] for r in rotated]\n",
    "    return dsa.concatenate(rotated, axis=-1)\n",
    "\n",
    "\n",
    "def _faces_to_latlon_scalar(data):\n",
    "    data_facets = _faces_to_facets(data)\n",
    "    return _facets_to_latlon_scalar(data_facets)\n",
    "\n",
    "# dask's pad function doesn't work\n",
    "# it does weird things to non-pad dimensions\n",
    "# need to roll our own\n",
    "def shift_and_pad(a):\n",
    "    a_shifted = a[..., 1:]\n",
    "    pad_array = dsa.zeros_like(a[..., -2:-1])\n",
    "    return dsa.concatenate([a_shifted, pad_array], axis=-1)\n",
    "\n",
    "def transform_v_to_u(facet):\n",
    "    return _rotate_scalar_facet(facet)\n",
    "\n",
    "def transform_u_to_v(facet, metric=False):\n",
    "    # \"shift\" u component by 1 pixel\n",
    "    pad_width = (facet.ndim - 1) * (None,) + ((1, 0),)\n",
    "    #facet_padded = dsa.pad(facet[..., 1:], pad_width, 'constant')\n",
    "    facet_padded = shift_and_pad(facet)\n",
    "    assert facet.shape == facet_padded.shape\n",
    "    facet_rotated = _rotate_scalar_facet(facet_padded)\n",
    "    if not metric:\n",
    "        facet_rotated = -facet_rotated\n",
    "    return facet_rotated\n",
    "\n",
    "def _facets_to_latlon_vector(facets_u, facets_v, metric=False):\n",
    "    # need to pad the rotated v values\n",
    "    ndim = facets_u[0].ndim\n",
    "    # second-to-last axis is the one to pad, plus a facet axis\n",
    "    assert ndim >= 3\n",
    "\n",
    "    # drop facet dimension\n",
    "    facets_u_drop = [f[..., 0, :, :] for f in facets_u]\n",
    "    facets_v_drop = [f[..., 0, :, :] for f in facets_v]\n",
    "\n",
    "    u_rot = (facets_u_drop[:2]\n",
    "             + [transform_v_to_u(facet) for facet in facets_v_drop[-2:]])\n",
    "    v_rot = (facets_v_drop[:2]\n",
    "             + [transform_u_to_v(facet) for facet in facets_u_drop[-2:]])\n",
    "\n",
    "    u = dsa.concatenate(u_rot, axis=-1)\n",
    "    v = dsa.concatenate(v_rot, axis=-1)\n",
    "    return u, v\n",
    "\n",
    "def _faces_to_latlon_vector(u_faces, v_faces, metric=False):\n",
    "    u_facets = _faces_to_facets(u_faces)\n",
    "    v_facets = _faces_to_facets(v_faces)\n",
    "    u, v = _facets_to_latlon_vector(u_facets, v_facets, metric=metric)\n",
    "    return u, v\n",
    "\n",
    "def _drop_facedim(dims):\n",
    "    dims = list(dims)\n",
    "    dims.remove('face')\n",
    "    return dims\n",
    "def faces_dataset_to_latlon(ds, metric_vector_pairs=[('dxC', 'dyC'), ('dyG', 'dxG')]):\n",
    "    coord_vars = list(ds.coords)\n",
    "    coords = ds.reset_coords().coords.to_dataset()\n",
    "    ifac = 4\n",
    "    jfac = 3\n",
    "    dim_coords = {}\n",
    "    for vname in coords.coords:\n",
    "        if vname[0] == 'i':\n",
    "            data = np.arange(ifac * coords.dims[vname])\n",
    "        elif vname[0] == 'j':\n",
    "            data = np.arange(jfac * coords.dims[vname])\n",
    "        else:\n",
    "            data = coords[vname].data\n",
    "        var = xr.Variable(ds[vname].dims, data, ds[vname].attrs)\n",
    "        dim_coords[vname] = var\n",
    "    ds_new = xr.Dataset(dim_coords)\n",
    "    \n",
    "    vector_pairs = []\n",
    "    scalars = []\n",
    "    vnames = list(ds.reset_coords().variables)\n",
    "    for vname in vnames:\n",
    "        try:\n",
    "            mate = ds[vname].attrs['mate']\n",
    "            vector_pairs.append((vname, mate))\n",
    "            vnames.remove(mate)\n",
    "        except KeyError:\n",
    "            pass\n",
    "        \n",
    "            \n",
    "    all_vector_components = [inner for outer in (vector_pairs + metric_vector_pairs)\n",
    "                             for inner in outer]\n",
    "    scalars = [vname for vname in vnames if vname not in all_vector_components]\n",
    "    data_vars = {}\n",
    "    \n",
    "    for vname in scalars:\n",
    "        if vname=='face' or vname in ds_new:\n",
    "            continue\n",
    "        if 'face' in ds[vname].dims: \n",
    "            data = _faces_to_latlon_scalar(ds[vname].data)\n",
    "            dims = _drop_facedim(ds[vname].dims)\n",
    "        else:\n",
    "            data = ds[vname].data    \n",
    "            dims = ds[vname].dims\n",
    "        data_vars[vname] = xr.Variable(dims, data, ds[vname].attrs)\n",
    "        \n",
    "    for vname_u, vname_v in vector_pairs:\n",
    "        data_u, data_v = _faces_to_latlon_vector(ds[vname_u].data, ds[vname_v].data)\n",
    "        data_vars[vname_u] = xr.Variable(_drop_facedim(ds[vname_u].dims), data_u, ds[vname_u].attrs)\n",
    "        data_vars[vname_v] = xr.Variable(_drop_facedim(ds[vname_v].dims), data_v, ds[vname_v].attrs)\n",
    "    for vname_u, vname_v in metric_vector_pairs:\n",
    "        data_u, data_v = _faces_to_latlon_vector(ds[vname_u].data, ds[vname_v].data, metric=True)\n",
    "        data_vars[vname_u] = xr.Variable(_drop_facedim(ds[vname_u].dims), data_u, ds[vname_u].attrs)\n",
    "        data_vars[vname_v] = xr.Variable(_drop_facedim(ds[vname_v].dims), data_v, ds[vname_v].attrs)\n",
    "    \n",
    "\n",
    "    ds_new = ds_new.update(data_vars)\n",
    "    ds_new = ds_new.set_coords([c for c in coord_vars if c in ds_new])\n",
    "    return ds_new\n"
   ]
  },
  {
   "cell_type": "code",
   "execution_count": 4,
   "metadata": {},
   "outputs": [],
   "source": [
    "#Apply Ryan's code to the dataset\n",
    "ds_ll = faces_dataset_to_latlon(ds_faces)\n",
    "\n",
    "#Exclude 1992 and put the Atlantic in the middle \n",
    "ds = (ds_ll.reset_coords(drop=True).roll(i=180, roll_coords=False)\n",
    "      .loc[dict(time=slice('1993-01-15','2015-12-14'))]\n",
    "     .loc[dict(time_snp=slice('1993-02-01','2015-12-01'))])#\n",
    "\n",
    "#Make a corresponding dataset of the coordinates of ds, with the same conditions as above(?)\n",
    "coords = (ds_ll.coords.to_dataset().reset_coords().roll(i=180, roll_coords=False)\n",
    "          .loc[dict(time=slice('1993-01-15','2015-12-14'))]\n",
    "         .loc[dict(time_snp=slice('1993-02-01','2015-12-01'))])#"
   ]
  },
  {
   "cell_type": "code",
   "execution_count": 5,
   "metadata": {},
   "outputs": [
    {
     "data": {
      "text/plain": [
       "<xarray.DataArray 'dt' (time: 276)>\n",
       "array([     nan, 2419200., 2678400., ..., 2678400., 2592000.,      nan])\n",
       "Coordinates:\n",
       "  * time     (time) datetime64[ns] 1993-01-15 1993-02-12 ... 2015-12-14\n",
       "    dt       (time) float64 nan 2.419e+06 2.678e+06 ... 2.678e+06 2.592e+06 nan\n",
       "Attributes:\n",
       "    units:          s\n",
       "    standard_name:  dt\n",
       "    coordinate:     time\n",
       "    long_name:      time span between snapshots"
      ]
     },
     "execution_count": 5,
     "metadata": {},
     "output_type": "execute_result"
    }
   ],
   "source": [
    "#What's the point of load here?\n",
    "#Why does np.diff(ds.time_snp) return the huge values \n",
    "dt = ds.time_snp[1:].load()\n",
    "dt.values = [float(t)/10**9 for t in np.diff(ds.time_snp)]\n",
    "\n",
    "# Rename time_snp coordinate to time coordaintes \n",
    "dt = dt.rename({'time_snp':'time'})\n",
    "\n",
    "#set the dt axis to the same values as the ds month midpoints \n",
    "dt.time.values = ds.time[1:-1].values \n",
    "\n",
    "#make a new ds object with the dt coordinate \n",
    "ds = ds.assign_coords(dt=dt)\n",
    "\n",
    "#set the attributes of the dt coordinate \n",
    "ds.dt.attrs = {'units': 's','standard_name': 'dt','coordinate': 'time','long_name': 'time span between snapshots'}\n",
    "ds.dt\n"
   ]
  },
  {
   "cell_type": "code",
   "execution_count": 6,
   "metadata": {},
   "outputs": [
    {
     "data": {
      "text/plain": [
       "<xarray.DataArray (time: 276)>\n",
       "dask.array<nancumsum, shape=(276,), dtype=float64, chunksize=(1,), chunktype=numpy.ndarray>\n",
       "Coordinates:\n",
       "    j_g      int64 221\n",
       "  * time     (time) datetime64[ns] 1993-01-15 1993-02-12 ... 2015-12-14\n",
       "    dt       (time) float64 nan 2.419e+06 2.678e+06 ... 2.678e+06 2.592e+06 nan"
      ]
     },
     "execution_count": 6,
     "metadata": {},
     "output_type": "execute_result"
    }
   ],
   "source": [
    "#Time integral\n",
    "rho0=1029 \n",
    "cp=3994\n",
    "\n",
    "#2 faces on the surface for divergence theorem - this is just one face \n",
    "\n",
    "#ADVy_TH is the flux of advection\n",
    "#sum_long sum_surface of advection per unit area -> total advection over latitude band \n",
    "mht1=(ds['ADVy_TH'][:,:,221,136:230]*rho0*cp).sum(['i','k']) \n",
    "\n",
    "#Finding the average advection - the total advection as a function of time is multiplied \n",
    "#by the change in time of that time-cell, summed and averaged to get a weighted time mean\n",
    "meanmht1=(mht1*ds.dt).sum('time')/(ds.dt.sum('time')) \n",
    "\n",
    "#Remove mean, weigh it by ds.dt change in time factor, and take the integral (cumsum)\n",
    "mhc1=((mht1-meanmht1)*ds.dt).cumsum('time')#.load()\n",
    "mhc1"
   ]
  },
  {
   "cell_type": "code",
   "execution_count": 7,
   "metadata": {},
   "outputs": [
    {
     "data": {
      "text/plain": [
       "<xarray.DataArray 'ADVy_TH' (time: 276)>\n",
       "dask.array<sum-aggregate, shape=(276,), dtype=float32, chunksize=(1,), chunktype=numpy.ndarray>\n",
       "Coordinates:\n",
       "    j_g      int64 259\n",
       "  * time     (time) datetime64[ns] 1993-01-15 1993-02-12 ... 2015-12-14\n",
       "    dt       (time) float64 nan 2.419e+06 2.678e+06 ... 2.678e+06 2.592e+06 nan"
      ]
     },
     "execution_count": 7,
     "metadata": {},
     "output_type": "execute_result"
    }
   ],
   "source": [
    "#2nd face \n",
    "mht2=(ds['ADVy_TH'][:,:,259,136:230]*rho0*cp).sum(['i','k'])\n",
    "meanmht2=(mht2*ds.dt).sum('time')/(ds.dt.sum('time')) \n",
    "mhc2=((mht2-meanmht2)*ds.dt).cumsum('time')\n",
    "mht2"
   ]
  },
  {
   "cell_type": "code",
   "execution_count": 10,
   "metadata": {},
   "outputs": [
    {
     "data": {
      "text/plain": [
       "(-1.2e+22, 1.2e+22)"
      ]
     },
     "execution_count": 10,
     "metadata": {},
     "output_type": "execute_result"
    },
    {
     "data": {
      "image/png": "[encoded data removed]",
      "text/plain": [
       "<Figure size 864x288 with 1 Axes>"
      ]
     },
     "metadata": {
      "needs_background": "light"
     },
     "output_type": "display_data"
    }
   ],
   "source": [
    "#net face\n",
    "netAdv = mhc1-mhc2 \n",
    "plt.figure(figsize=(12,4))\n",
    "plt.grid()\n",
    "netAdv.plot()\n",
    "plt.ylim(-1.2*10**22,1.2*10**22)"
   ]
  },
  {
   "cell_type": "code",
   "execution_count": 24,
   "metadata": {},
   "outputs": [],
   "source": [
    "#New Work 18 Nov \n",
    "from xgcm import Grid \n",
    "grid = Grid(ds, coords={'Y':{'center':'j', 'left':'j_g'}})\n",
    "THETA_jg = grid.interp(ds.THETA, axis = 'Y')"
   ]
  },
  {
   "cell_type": "code",
   "execution_count": 27,
   "metadata": {},
   "outputs": [
    {
     "data": {
      "text/plain": [
       "<xarray.DataArray 'dxG' (j_g: 270, i: 360)>\n",
       "dask.array<concatenate, shape=(270, 360), dtype=float32, chunksize=(89, 90), chunktype=numpy.ndarray>\n",
       "Coordinates:\n",
       "  * j_g      (j_g) int64 0 1 2 3 4 5 6 7 8 ... 262 263 264 265 266 267 268 269\n",
       "  * i        (i) int64 0 1 2 3 4 5 6 7 8 ... 351 352 353 354 355 356 357 358 359\n",
       "Attributes:\n",
       "    coordinate:     YG XC\n",
       "    long_name:      cell x size\n",
       "    standard_name:  cell_x_size_at_v_location\n",
       "    units:          m"
      ]
     },
     "execution_count": 27,
     "metadata": {},
     "output_type": "execute_result"
    }
   ],
   "source": [
    "coords.dx"
   ]
  },
  {
   "cell_type": "code",
   "execution_count": 34,
   "metadata": {},
   "outputs": [
    {
     "data": {
      "text/plain": [
       "<xarray.DataArray (time: 276)>\n",
       "dask.array<nancumsum, shape=(276,), dtype=float64, chunksize=(1,), chunktype=numpy.ndarray>\n",
       "Coordinates:\n",
       "  * time     (time) datetime64[ns] 1993-01-15 1993-02-12 ... 2015-12-14\n",
       "    dt       (time) float64 nan 2.419e+06 2.678e+06 ... 2.678e+06 2.592e+06 nan"
      ]
     },
     "execution_count": 34,
     "metadata": {},
     "output_type": "execute_result"
    }
   ],
   "source": [
    "#1st Face \n",
    "advy = ds.VVELMASS[:, :, 221, 136:220] * ds.THETA[:, :, 221, 136:220] * coords.drF * coords.dxG[221,136:220]\n",
    "mht1_n =(advy[:,:,136:230]*rho0*cp).sum(['i','k'])\n",
    "meanmht1_new=(mht1_n*ds.dt).sum('time')/(ds.dt.sum('time')) \n",
    "mhc1_new=((mht1_n-meanmht1_new)*ds.dt).cumsum('time')\n",
    "mhc1_new"
   ]
  },
  {
   "cell_type": "code",
   "execution_count": 38,
   "metadata": {},
   "outputs": [
    {
     "data": {
      "text/plain": [
       "<xarray.DataArray (time: 276)>\n",
       "dask.array<nancumsum, shape=(276,), dtype=float64, chunksize=(1,), chunktype=numpy.ndarray>\n",
       "Coordinates:\n",
       "    j_g      int64 259\n",
       "  * time     (time) datetime64[ns] 1993-01-15 1993-02-12 ... 2015-12-14\n",
       "    dt       (time) float64 nan 2.419e+06 2.678e+06 ... 2.678e+06 2.592e+06 nan\n",
       "    j        int64 259"
      ]
     },
     "execution_count": 38,
     "metadata": {},
     "output_type": "execute_result"
    }
   ],
   "source": [
    "#2nd Face\n",
    "advy = ds.VVELMASS[:, :, 259, 136:220] * ds.THETA[:, :, 259, 136:220] * coords.drF * coords.dxG[259,136:220]\n",
    "mht2_n =(advy[:,:,136:230]*rho0*cp).sum(['i','k'])\n",
    "meanmht2_new=(mht2_n*ds.dt).sum('time')/(ds.dt.sum('time')) \n",
    "mhc2_new = ((mht2_n-meanmht2_new)*ds.dt).cumsum('time')\n",
    "mhc2_new"
   ]
  },
  {
   "cell_type": "code",
   "execution_count": 39,
   "metadata": {},
   "outputs": [
    {
     "name": "stderr",
     "output_type": "stream",
     "text": [
      "/srv/conda/envs/notebook/lib/python3.7/site-packages/pandas/plotting/_converter.py:129: FutureWarning: Using an implicitly registered datetime converter for a matplotlib plotting method. The converter was registered by pandas on import. Future versions of pandas will require you to explicitly register matplotlib converters.\n",
      "\n",
      "To register the converters:\n",
      "\t>>> from pandas.plotting import register_matplotlib_converters\n",
      "\t>>> register_matplotlib_converters()\n",
      "  warnings.warn(msg, FutureWarning)\n"
     ]
    },
    {
     "data": {
      "text/plain": [
       "(-1.2e+22, 1.2e+22)"
      ]
     },
     "execution_count": 39,
     "metadata": {},
     "output_type": "execute_result"
    },
    {
     "data": {
      "image/png": "[encoded data removed]",
      "text/plain": [
       "<Figure size 864x288 with 1 Axes>"
      ]
     },
     "metadata": {
      "needs_background": "light"
     },
     "output_type": "display_data"
    }
   ],
   "source": [
    "#Net Face\n",
    "netAdv_new = mhc1_new-mhc2_new \n",
    "plt.figure(figsize=(12,4))\n",
    "plt.grid()\n",
    "netAdv.plot()\n",
    "plt.ylim(-1.2*10**22,1.2*10**22)"
   ]
  },
  {
   "cell_type": "code",
   "execution_count": 45,
   "metadata": {},
   "outputs": [
    {
     "data": {
      "text/plain": [
       "<xarray.DataArray 'ADVy_TH' (time: 276, k: 50, j_g: 270, i: 360)>\n",
       "dask.array<getitem, shape=(276, 50, 270, 360), dtype=float32, chunksize=(1, 50, 89, 90), chunktype=numpy.ndarray>\n",
       "Coordinates:\n",
       "  * j_g      (j_g) int64 0 1 2 3 4 5 6 7 8 ... 262 263 264 265 266 267 268 269\n",
       "  * time     (time) datetime64[ns] 1993-01-15 1993-02-12 ... 2015-12-14\n",
       "  * k        (k) int64 0 1 2 3 4 5 6 7 8 9 10 ... 40 41 42 43 44 45 46 47 48 49\n",
       "  * i        (i) int64 0 1 2 3 4 5 6 7 8 ... 351 352 353 354 355 356 357 358 359\n",
       "    dt       (time) float64 nan 2.419e+06 2.678e+06 ... 2.678e+06 2.592e+06 nan\n",
       "Attributes:\n",
       "    long_name:      Meridional Advective Flux of Pot.Temperature\n",
       "    mate:           ADVx_TH\n",
       "    standard_name:  ADVy_TH\n",
       "    units:          degC.m^3/s"
      ]
     },
     "execution_count": 45,
     "metadata": {},
     "output_type": "execute_result"
    }
   ],
   "source": [
    "ds.ADVy_TH"
   ]
  },
  {
   "cell_type": "code",
   "execution_count": null,
   "metadata": {},
   "outputs": [],
   "source": []
  }
 ],
 "metadata": {
  "kernelspec": {
   "display_name": "Python 3",
   "language": "python",
   "name": "python3"
  },
  "language_info": {
   "codemirror_mode": {
    "name": "ipython",
    "version": 3
   },
   "file_extension": ".py",
   "mimetype": "text/x-python",
   "name": "python",
   "nbconvert_exporter": "python",
   "pygments_lexer": "ipython3",
   "version": "3.7.3"
  }
 },
 "nbformat": 4,
 "nbformat_minor": 4
}
