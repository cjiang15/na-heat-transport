{
 "cells": [
  {
   "cell_type": "code",
   "execution_count": 1,
   "metadata": {},
   "outputs": [],
   "source": [
    "import os\n",
    "\n",
    "os.environ['NUMPY_EXPERIMENTAL_ARRAY_FUNCTION'] = '0'\n",
    "import xarray as xr\n",
    "from xmitgcm.llcreader.llcmodel import faces_dataset_to_latlon\n",
    "from matplotlib import pyplot as pltt\n",
    "%matplotlib inline\n",
    "import numpy as np\n",
    "import intake\n",
    "import fsspec\n",
    "import xmitgcm"
   ]
  },
  {
   "cell_type": "code",
   "execution_count": 2,
   "metadata": {},
   "outputs": [],
   "source": [
    "cat = intake.Catalog(\"https://raw.githubusercontent.com/pangeo-data/pangeo-datastore/master/intake-catalogs/ocean.yaml\")\n",
    "ds_faces1 = cat[\"ECCOv4r3\"].to_dask()\n",
    "ds_faces2 = xr.open_zarr(fsspec.get_mapper('gcs://pangeo-data/ECCO_layers.zarr'))\n",
    "ds_faces=xr.merge((ds_faces1,ds_faces2))"
   ]
  },
  {
   "cell_type": "code",
   "execution_count": 8,
   "metadata": {},
   "outputs": [
    {
     "name": "stderr",
     "output_type": "stream",
     "text": [
      "ERROR:root:Internal Python error in the inspect module.\n",
      "Below is the traceback from this internal error.\n",
      "\n"
     ]
    },
    {
     "name": "stdout",
     "output_type": "stream",
     "text": [
      "Traceback (most recent call last):\n",
      "  File \"/srv/conda/envs/notebook/lib/python3.7/site-packages/IPython/core/interactiveshell.py\", line 3326, in run_code\n",
      "    exec(code_obj, self.user_global_ns, self.user_ns)\n",
      "  File \"<ipython-input-8-9625874396ad>\", line 21, in <module>\n",
      "    basin_mask = (basin_mask * mask_2d).drop(['PHrefC','Z','drF','hFacS','maskS'])\n",
      "  File \"/srv/conda/envs/notebook/lib/python3.7/site-packages/xarray/core/dataarray.py\", line 2242, in func\n",
      "    coords = self.coords._merge_raw(other_coords)\n",
      "  File \"/srv/conda/envs/notebook/lib/python3.7/site-packages/xarray/core/coordinates.py\", line 106, in _merge_raw\n",
      "    [self.variables, other.variables])\n",
      "  File \"/srv/conda/envs/notebook/lib/python3.7/site-packages/xarray/core/merge.py\", line 349, in expand_and_merge_variables\n",
      "    variables = merge_variables(expanded, priority_vars)\n",
      "  File \"/srv/conda/envs/notebook/lib/python3.7/site-packages/xarray/core/merge.py\", line 172, in merge_variables\n",
      "    merged[name] = unique_variable(name, var_list, compat)\n",
      "  File \"/srv/conda/envs/notebook/lib/python3.7/site-packages/xarray/core/merge.py\", line 88, in unique_variable\n",
      "    if not getattr(out, compat)(var):\n",
      "  File \"/srv/conda/envs/notebook/lib/python3.7/site-packages/xarray/core/variable.py\", line 1514, in broadcast_equals\n",
      "    return self.equals(other, equiv=equiv)\n",
      "  File \"/srv/conda/envs/notebook/lib/python3.7/site-packages/xarray/core/variable.py\", line 1499, in equals\n",
      "    equiv(self.data, other.data)))\n",
      "  File \"/srv/conda/envs/notebook/lib/python3.7/site-packages/xarray/core/duck_array_ops.py\", line 168, in array_equiv\n",
      "    return bool(flag_array.all())\n",
      "  File \"/srv/conda/envs/notebook/lib/python3.7/site-packages/dask/array/core.py\", line 1375, in __bool__\n",
      "    return bool(self.compute())\n",
      "  File \"/srv/conda/envs/notebook/lib/python3.7/site-packages/dask/base.py\", line 175, in compute\n",
      "    (result,) = compute(self, traverse=False, **kwargs)\n",
      "  File \"/srv/conda/envs/notebook/lib/python3.7/site-packages/dask/base.py\", line 446, in compute\n",
      "    results = schedule(dsk, keys, **kwargs)\n",
      "  File \"/srv/conda/envs/notebook/lib/python3.7/site-packages/dask/threaded.py\", line 82, in get\n",
      "    **kwargs\n",
      "  File \"/srv/conda/envs/notebook/lib/python3.7/site-packages/dask/local.py\", line 480, in get_async\n",
      "    key, res_info, failed = queue_get(queue)\n",
      "  File \"/srv/conda/envs/notebook/lib/python3.7/site-packages/dask/local.py\", line 144, in queue_get\n",
      "    return q.get()\n",
      "  File \"/srv/conda/envs/notebook/lib/python3.7/queue.py\", line 170, in get\n",
      "    self.not_empty.wait()\n",
      "  File \"/srv/conda/envs/notebook/lib/python3.7/threading.py\", line 296, in wait\n",
      "    waiter.acquire()\n",
      "KeyboardInterrupt\n",
      "\n",
      "During handling of the above exception, another exception occurred:\n",
      "\n",
      "Traceback (most recent call last):\n",
      "  File \"/srv/conda/envs/notebook/lib/python3.7/site-packages/IPython/core/interactiveshell.py\", line 2040, in showtraceback\n",
      "    stb = value._render_traceback_()\n",
      "AttributeError: 'KeyboardInterrupt' object has no attribute '_render_traceback_'\n",
      "\n",
      "During handling of the above exception, another exception occurred:\n",
      "\n",
      "Traceback (most recent call last):\n",
      "  File \"/srv/conda/envs/notebook/lib/python3.7/site-packages/IPython/core/ultratb.py\", line 1101, in get_records\n",
      "    return _fixed_getinnerframes(etb, number_of_lines_of_context, tb_offset)\n",
      "  File \"/srv/conda/envs/notebook/lib/python3.7/site-packages/IPython/core/ultratb.py\", line 319, in wrapped\n",
      "    return f(*args, **kwargs)\n",
      "  File \"/srv/conda/envs/notebook/lib/python3.7/site-packages/IPython/core/ultratb.py\", line 353, in _fixed_getinnerframes\n",
      "    records = fix_frame_records_filenames(inspect.getinnerframes(etb, context))\n",
      "  File \"/srv/conda/envs/notebook/lib/python3.7/inspect.py\", line 1502, in getinnerframes\n",
      "    frameinfo = (tb.tb_frame,) + getframeinfo(tb, context)\n",
      "  File \"/srv/conda/envs/notebook/lib/python3.7/inspect.py\", line 1460, in getframeinfo\n",
      "    filename = getsourcefile(frame) or getfile(frame)\n",
      "  File \"/srv/conda/envs/notebook/lib/python3.7/inspect.py\", line 696, in getsourcefile\n",
      "    if getattr(getmodule(object, filename), '__loader__', None) is not None:\n",
      "  File \"/srv/conda/envs/notebook/lib/python3.7/inspect.py\", line 742, in getmodule\n",
      "    os.path.realpath(f)] = module.__name__\n",
      "  File \"/srv/conda/envs/notebook/lib/python3.7/posixpath.py\", line 395, in realpath\n",
      "    path, ok = _joinrealpath(filename[:0], filename, {})\n",
      "  File \"/srv/conda/envs/notebook/lib/python3.7/posixpath.py\", line 429, in _joinrealpath\n",
      "    if not islink(newpath):\n",
      "  File \"/srv/conda/envs/notebook/lib/python3.7/posixpath.py\", line 168, in islink\n",
      "    def islink(path):\n",
      "KeyboardInterrupt\n"
     ]
    },
    {
     "ename": "KeyboardInterrupt",
     "evalue": "",
     "output_type": "error",
     "traceback": [
      "\u001b[0;31m---------------------------------------------------------------------------\u001b[0m"
     ]
    }
   ],
   "source": [
    "#for more info on how this mask works, see https://github.com/ECCO-GROUP/ECCOv4-py/blob/master/ecco_v4_py/get_basin.py\n",
    "all_basins = xmitgcm.utils.read_3d_llc_data('/home/jovyan/basins.data', nx=90,nz=1,nrecs=1,dtype='>f')\n",
    "mask_2d = ds_faces['hFacC'].isel(k=0)\n",
    "basin_mask = 0*mask_2d\n",
    "basin_mask = (basin_mask + mask_2d.where(all_basins.squeeze() == 2,0)+ mask_2d.where(all_basins.squeeze() == 7,0)\n",
    "              + mask_2d.where(all_basins.squeeze() == 9,0)\n",
    "             + mask_2d.where(all_basins.squeeze() == 10,0)\n",
    "             + mask_2d.where(all_basins.squeeze() == 12,0)\n",
    "             + mask_2d.where(all_basins.squeeze() == 18,0)\n",
    "             + mask_2d.where(all_basins.squeeze() == 19,0))\n",
    "basin_mask = (basin_mask * mask_2d).drop(['PHrefC','Z','drF','hFacC','maskC'])\n",
    "ds_with_mask=xr.merge((ds_faces,basin_mask.rename('atl_maskC')))\n",
    "mask_2d = ds_faces['hFacS'].isel(k=0)\n",
    "basin_mask = 0*mask_2d\n",
    "basin_mask = (basin_mask + mask_2d.where(all_basins.squeeze() == 2,0)+ mask_2d.where(all_basins.squeeze() == 7,0)\n",
    "              + mask_2d.where(all_basins.squeeze() == 9,0)\n",
    "             + mask_2d.where(all_basins.squeeze() == 10,0)\n",
    "             + mask_2d.where(all_basins.squeeze() == 12,0)\n",
    "             + mask_2d.where(all_basins.squeeze() == 18,0)\n",
    "             + mask_2d.where(all_basins.squeeze() == 19,0))\n",
    "basin_mask = (basin_mask * mask_2d).drop(['PHrefC','Z','drF','hFacS','maskS'])\n",
    "ds_with_mask2=xr.merge((ds_with_mask,basin_mask.rename('atl_maskS')))\n",
    "mask_2d = ds_faces['hFacW'].isel(k=0)\n",
    "basin_mask = 0*mask_2d\n",
    "basin_mask = (basin_mask + mask_2d.where(all_basins.squeeze() == 2,0)+ mask_2d.where(all_basins.squeeze() == 7,0)\n",
    "              + mask_2d.where(all_basins.squeeze() == 9,0)\n",
    "             + mask_2d.where(all_basins.squeeze() == 10,0)\n",
    "             + mask_2d.where(all_basins.squeeze() == 12,0)\n",
    "             + mask_2d.where(all_basins.squeeze() == 18,0)\n",
    "             + mask_2d.where(all_basins.squeeze() == 19,0))\n",
    "basin_mask = (basin_mask * mask_2d).drop(['PHrefC','Z','drF','hFacW','maskW'])\n",
    "ds_with_mask3=xr.merge((ds_with_mask2,basin_mask.rename('atl_maskW')))"
   ]
  },
  {
   "cell_type": "code",
   "execution_count": 9,
   "metadata": {},
   "outputs": [],
   "source": [
    "ds_ll = faces_dataset_to_latlon(ds_with_mask3, metric_vector_pairs=[('LaHw3RHO','LaHs3RHO'),('atl_maskW','atl_maskS')])#.compute()\n",
    "ds = (ds_ll.reset_coords(drop=True).roll(i=180, roll_coords=False).roll(i_g=180, roll_coords=False))\n",
    "coords = (ds_ll.coords.to_dataset().reset_coords().roll(i=180, roll_coords=False).roll(i_g=180, roll_coords=False))"
   ]
  },
  {
   "cell_type": "code",
   "execution_count": 10,
   "metadata": {},
   "outputs": [],
   "source": [
    "dt = ds.time_snp[1:].load()\n",
    "dt.values = [float(t)/10**9 for t in np.diff(ds.time_snp)]\n",
    "dt = dt.rename({'time_snp':'time'})\n",
    "dt.time.values = ds.time.values[1:-1] \n",
    "ds = ds.assign_coords(dt=dt)\n",
    "ds.dt.attrs = {'units': 's','standard_name': 'dt','coordinate': 'time','long_name': 'time span between snapshots'}"
   ]
  },
  {
   "cell_type": "code",
   "execution_count": null,
   "metadata": {},
   "outputs": [],
   "source": [
    "#Discard time steps 277 and 287 "
   ]
  },
  {
   "cell_type": "code",
   "execution_count": null,
   "metadata": {},
   "outputs": [],
   "source": [
    " "
   ]
  },
  {
   "cell_type": "code",
   "execution_count": 23,
   "metadata": {},
   "outputs": [],
   "source": [
    "v = ds.LaVH3RHO * ds.atl_maskS * coords.dxG\n",
    "v1 = v[281, :, 220, :].sum('i')\n",
    "volume_cumsum = v1.cumsum('l3_c')"
   ]
  },
  {
   "cell_type": "code",
   "execution_count": 25,
   "metadata": {},
   "outputs": [
    {
     "data": {
      "text/plain": [
       "<xarray.DataArray ()>\n",
       "dask.array<shape=(), dtype=float64, chunksize=()>\n",
       "Coordinates:\n",
       "    time     datetime64[ns] 2015-06-14\n",
       "    j_g      int64 220\n",
       "    l3_c     int64 103\n",
       "    dt       float64 2.592e+06"
      ]
     },
     "execution_count": 25,
     "metadata": {},
     "output_type": "execute_result"
    }
   ],
   "source": [
    "i = np.unravel_index(volume_cumsum.argmax(), volume_cumsum.shape)\n",
    "volume_cumsum[i]"
   ]
  },
  {
   "cell_type": "code",
   "execution_count": null,
   "metadata": {},
   "outputs": [],
   "source": []
  }
 ],
 "metadata": {
  "kernelspec": {
   "display_name": "Python 3",
   "language": "python",
   "name": "python3"
  },
  "language_info": {
   "codemirror_mode": {
    "name": "ipython",
    "version": 3
   },
   "file_extension": ".py",
   "mimetype": "text/x-python",
   "name": "python",
   "nbconvert_exporter": "python",
   "pygments_lexer": "ipython3",
   "version": "3.7.3"
  }
 },
 "nbformat": 4,
 "nbformat_minor": 4
}
