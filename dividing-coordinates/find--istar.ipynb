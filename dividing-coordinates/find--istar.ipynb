{
 "cells": [
  {
   "cell_type": "code",
   "execution_count": 1,
   "metadata": {},
   "outputs": [],
   "source": [
    "import os\n",
    "\n",
    "os.environ['NUMPY_EXPERIMENTAL_ARRAY_FUNCTION'] = '0'\n",
    "import xarray as xr\n",
    "from xmitgcm.llcreader.llcmodel import faces_dataset_to_latlon\n",
    "from matplotlib import pyplot as plt\n",
    "%matplotlib inline\n",
    "import numpy as np\n",
    "import intake\n",
    "import fsspec\n",
    "import xmitgcm"
   ]
  },
  {
   "cell_type": "code",
   "execution_count": 2,
   "metadata": {},
   "outputs": [],
   "source": [
    "cat = intake.Catalog(\"https://raw.githubusercontent.com/pangeo-data/pangeo-datastore/master/intake-catalogs/ocean.yaml\")\n",
    "ds_faces1 = cat[\"ECCOv4r3\"].to_dask()\n",
    "ds_faces2 = xr.open_zarr(fsspec.get_mapper('gcs://pangeo-data/ECCO_layers.zarr'))\n",
    "ds_faces=xr.merge((ds_faces1,ds_faces2))"
   ]
  },
  {
   "cell_type": "code",
   "execution_count": 16,
   "metadata": {},
   "outputs": [],
   "source": [
    "#for more info on how this mask works, see https://github.com/ECCO-GROUP/ECCOv4-py/blob/master/ecco_v4_py/get_basin.py\n",
    "all_basins = xmitgcm.utils.read_3d_llc_data('/home/jovyan/basins.data', nx=90,nz=1,nrecs=1,dtype='>f')\n",
    "mask_2d = ds_faces['hFacC'].isel(k=0)\n",
    "basin_mask = 0*mask_2d\n",
    "basin_mask = (basin_mask + mask_2d.where(all_basins.squeeze() == 2,0)+ mask_2d.where(all_basins.squeeze() == 7,0)\n",
    "              + mask_2d.where(all_basins.squeeze() == 9,0)\n",
    "             + mask_2d.where(all_basins.squeeze() == 10,0)\n",
    "             + mask_2d.where(all_basins.squeeze() == 12,0)\n",
    "             + mask_2d.where(all_basins.squeeze() == 18,0)\n",
    "             + mask_2d.where(all_basins.squeeze() == 19,0))\n",
    "basin_mask = (basin_mask * mask_2d).drop(['PHrefC','Z','drF','hFacC','maskC'])\n",
    "ds_with_mask=xr.merge((ds_faces,basin_mask.rename('atl_maskC')))\n",
    "mask_2d = ds_faces['hFacS'].isel(k=0)\n",
    "basin_mask = 0*mask_2d\n",
    "basin_mask = (basin_mask + mask_2d.where(all_basins.squeeze() == 2,0)+ mask_2d.where(all_basins.squeeze() == 7,0)\n",
    "              + mask_2d.where(all_basins.squeeze() == 9,0)\n",
    "             + mask_2d.where(all_basins.squeeze() == 10,0)\n",
    "             + mask_2d.where(all_basins.squeeze() == 12,0)\n",
    "             + mask_2d.where(all_basins.squeeze() == 18,0)\n",
    "             + mask_2d.where(all_basins.squeeze() == 19,0))\n",
    "basin_mask = (basin_mask * mask_2d).drop(['PHrefC','Z','drF','hFacS','maskS'])\n",
    "ds_with_mask2=xr.merge((ds_with_mask,basin_mask.rename('atl_maskS')))\n",
    "mask_2d = ds_faces['hFacW'].isel(k=0)\n",
    "basin_mask = 0*mask_2d\n",
    "basin_mask = (basin_mask + mask_2d.where(all_basins.squeeze() == 2,0)+ mask_2d.where(all_basins.squeeze() == 7,0)\n",
    "              + mask_2d.where(all_basins.squeeze() == 9,0)\n",
    "             + mask_2d.where(all_basins.squeeze() == 10,0)\n",
    "             + mask_2d.where(all_basins.squeeze() == 12,0)\n",
    "             + mask_2d.where(all_basins.squeeze() == 18,0)\n",
    "             + mask_2d.where(all_basins.squeeze() == 19,0))\n",
    "basin_mask = (basin_mask * mask_2d).drop(['PHrefC','Z','drF','hFacW','maskW'])\n",
    "ds_with_mask3=xr.merge((ds_with_mask2,basin_mask.rename('atl_maskW')))"
   ]
  },
  {
   "cell_type": "code",
   "execution_count": 18,
   "metadata": {},
   "outputs": [],
   "source": [
    "ds_ll = faces_dataset_to_latlon(ds_with_mask3, metric_vector_pairs=[('LaHw3RHO','LaHs3RHO'),('atl_maskW','atl_maskS')])#.compute()\n",
    "ds = (ds_ll.reset_coords(drop=True).roll(i=180, roll_coords=False).roll(i_g=180, roll_coords=False))\n",
    "coords = (ds_ll.coords.to_dataset().reset_coords().roll(i=180, roll_coords=False).roll(i_g=180, roll_coords=False))"
   ]
  },
  {
   "cell_type": "code",
   "execution_count": 19,
   "metadata": {},
   "outputs": [],
   "source": [
    "dt = ds.time_snp[1:].load()\n",
    "dt.values = [float(t)/10**9 for t in np.diff(ds.time_snp)]\n",
    "dt = dt.rename({'time_snp':'time'})\n",
    "dt.time.values = ds.time.values[1:-1] \n",
    "ds = ds.assign_coords(dt=dt)\n",
    "ds.dt.attrs = {'units': 's','standard_name': 'dt','coordinate': 'time','long_name': 'time span between snapshots'}"
   ]
  },
  {
   "cell_type": "code",
   "execution_count": 23,
   "metadata": {},
   "outputs": [
    {
     "data": {
      "text/plain": [
       "<xarray.DataArray (i: 360)>\n",
       "array([0., 0., 0., ..., 0., 0., 0.])\n",
       "Coordinates:\n",
       "  * i        (i) int64 0 1 2 3 4 5 6 7 8 ... 351 352 353 354 355 356 357 358 359\n",
       "    j_g      int64 220"
      ]
     },
     "execution_count": 23,
     "metadata": {},
     "output_type": "execute_result"
    }
   ],
   "source": [
    "tr = (ds.LaVH3RHO * coords.dxG * ds.atl_maskS)[:,:103, 220, :].sum('l3_c')\n",
    "\n",
    "tr1 = (tr*ds.dt).sum('time')/ds.dt.sum('time')\n",
    "tr1.load()"
   ]
  },
  {
   "cell_type": "code",
   "execution_count": 24,
   "metadata": {},
   "outputs": [
    {
     "data": {
      "text/plain": [
       "[<matplotlib.lines.Line2D at 0x7fb3b3668828>]"
      ]
     },
     "execution_count": 24,
     "metadata": {},
     "output_type": "execute_result"
    },
    {
     "data": {
      "image/png": "[encoded data removed]",
      "text/plain": [
       "<Figure size 432x288 with 1 Axes>"
      ]
     },
     "metadata": {
      "needs_background": "light"
     },
     "output_type": "display_data"
    }
   ],
   "source": [
    "#Top volume flux -> 15511280.39047292\n",
    "tr = (ds.LaVH3RHO * coords.dxG * ds.atl_maskS)[:, :103, 220, :].sum('l3_c')\n",
    "tr1 = (tr*ds.dt).sum('time')/ds.dt.sum('time')\n",
    "top_region = (tr1.cumsum('i') - 15511280)[110:250]\n",
    "top_region.plot()"
   ]
  },
  {
   "cell_type": "code",
   "execution_count": 25,
   "metadata": {},
   "outputs": [
    {
     "data": {
      "text/plain": [
       "array(-177147.63633478)"
      ]
     },
     "execution_count": 25,
     "metadata": {},
     "output_type": "execute_result"
    }
   ],
   "source": [
    "top_region.isel(i = 120).values"
   ]
  },
  {
   "cell_type": "code",
   "execution_count": 69,
   "metadata": {},
   "outputs": [],
   "source": [
    "def find0(array):\n",
    "    j = 0;\n",
    "    for i in range(array.size):\n",
    "        if (array[i].values < 1e-7):\n",
    "            return i "
   ]
  },
  {
   "cell_type": "code",
   "execution_count": 44,
   "metadata": {},
   "outputs": [
    {
     "data": {
      "text/plain": [
       "140"
      ]
     },
     "execution_count": 44,
     "metadata": {},
     "output_type": "execute_result"
    }
   ],
   "source": [
    "top_region.size"
   ]
  },
  {
   "cell_type": "code",
   "execution_count": 65,
   "metadata": {},
   "outputs": [
    {
     "name": "stderr",
     "output_type": "stream",
     "text": [
      "WARNING:urllib3.connectionpool:Connection pool is full, discarding connection: www.googleapis.com\n",
      "WARNING:urllib3.connectionpool:Connection pool is full, discarding connection: www.googleapis.com\n",
      "WARNING:urllib3.connectionpool:Connection pool is full, discarding connection: www.googleapis.com\n",
      "WARNING:urllib3.connectionpool:Connection pool is full, discarding connection: www.googleapis.com\n",
      "WARNING:urllib3.connectionpool:Connection pool is full, discarding connection: www.googleapis.com\n",
      "WARNING:urllib3.connectionpool:Connection pool is full, discarding connection: www.googleapis.com\n",
      "WARNING:urllib3.connectionpool:Connection pool is full, discarding connection: www.googleapis.com\n",
      "WARNING:urllib3.connectionpool:Connection pool is full, discarding connection: www.googleapis.com\n",
      "WARNING:urllib3.connectionpool:Connection pool is full, discarding connection: www.googleapis.com\n",
      "WARNING:urllib3.connectionpool:Connection pool is full, discarding connection: www.googleapis.com\n",
      "WARNING:urllib3.connectionpool:Connection pool is full, discarding connection: www.googleapis.com\n",
      "WARNING:urllib3.connectionpool:Connection pool is full, discarding connection: www.googleapis.com\n"
     ]
    },
    {
     "data": {
      "text/plain": [
       "array(-15511280.)"
      ]
     },
     "execution_count": 65,
     "metadata": {},
     "output_type": "execute_result"
    }
   ],
   "source": [
    "top_region = (tr1.cumsum('i') - 15511280)[110:250]\n",
    "top_region[2].values"
   ]
  },
  {
   "cell_type": "code",
   "execution_count": 66,
   "metadata": {},
   "outputs": [
    {
     "name": "stderr",
     "output_type": "stream",
     "text": [
      "WARNING:urllib3.connectionpool:Connection pool is full, discarding connection: www.googleapis.com\n",
      "WARNING:urllib3.connectionpool:Connection pool is full, discarding connection: www.googleapis.com\n",
      "WARNING:urllib3.connectionpool:Connection pool is full, discarding connection: www.googleapis.com\n",
      "WARNING:urllib3.connectionpool:Connection pool is full, discarding connection: www.googleapis.com\n",
      "WARNING:urllib3.connectionpool:Connection pool is full, discarding connection: www.googleapis.com\n",
      "WARNING:urllib3.connectionpool:Connection pool is full, discarding connection: www.googleapis.com\n"
     ]
    },
    {
     "data": {
      "text/plain": [
       "80"
      ]
     },
     "execution_count": 66,
     "metadata": {},
     "output_type": "execute_result"
    }
   ],
   "source": [
    "np.argmax(top_region.values>0)"
   ]
  },
  {
   "cell_type": "code",
   "execution_count": 70,
   "metadata": {},
   "outputs": [
    {
     "name": "stderr",
     "output_type": "stream",
     "text": [
      "WARNING:urllib3.connectionpool:Connection pool is full, discarding connection: www.googleapis.com\n",
      "WARNING:urllib3.connectionpool:Connection pool is full, discarding connection: www.googleapis.com\n",
      "WARNING:urllib3.connectionpool:Connection pool is full, discarding connection: www.googleapis.com\n",
      "WARNING:urllib3.connectionpool:Connection pool is full, discarding connection: www.googleapis.com\n",
      "WARNING:urllib3.connectionpool:Connection pool is full, discarding connection: www.googleapis.com\n",
      "WARNING:urllib3.connectionpool:Connection pool is full, discarding connection: www.googleapis.com\n"
     ]
    },
    {
     "data": {
      "text/plain": [
       "array(85348.4407521)"
      ]
     },
     "execution_count": 70,
     "metadata": {},
     "output_type": "execute_result"
    }
   ],
   "source": [
    "top_region[80].values"
   ]
  },
  {
   "cell_type": "code",
   "execution_count": 71,
   "metadata": {},
   "outputs": [
    {
     "name": "stderr",
     "output_type": "stream",
     "text": [
      "WARNING:urllib3.connectionpool:Connection pool is full, discarding connection: www.googleapis.com\n",
      "WARNING:urllib3.connectionpool:Connection pool is full, discarding connection: www.googleapis.com\n",
      "WARNING:urllib3.connectionpool:Connection pool is full, discarding connection: www.googleapis.com\n",
      "WARNING:urllib3.connectionpool:Connection pool is full, discarding connection: www.googleapis.com\n",
      "WARNING:urllib3.connectionpool:Connection pool is full, discarding connection: www.googleapis.com\n",
      "WARNING:urllib3.connectionpool:Connection pool is full, discarding connection: www.googleapis.com\n"
     ]
    },
    {
     "data": {
      "text/plain": [
       "0"
      ]
     },
     "execution_count": 71,
     "metadata": {},
     "output_type": "execute_result"
    }
   ],
   "source": [
    "find0(top_region)"
   ]
  },
  {
   "cell_type": "code",
   "execution_count": 72,
   "metadata": {},
   "outputs": [
    {
     "name": "stderr",
     "output_type": "stream",
     "text": [
      "WARNING:urllib3.connectionpool:Connection pool is full, discarding connection: www.googleapis.com\n",
      "WARNING:urllib3.connectionpool:Connection pool is full, discarding connection: www.googleapis.com\n",
      "WARNING:urllib3.connectionpool:Connection pool is full, discarding connection: www.googleapis.com\n",
      "WARNING:urllib3.connectionpool:Connection pool is full, discarding connection: www.googleapis.com\n",
      "WARNING:urllib3.connectionpool:Connection pool is full, discarding connection: www.googleapis.com\n",
      "WARNING:urllib3.connectionpool:Connection pool is full, discarding connection: www.googleapis.com\n"
     ]
    },
    {
     "data": {
      "text/plain": [
       "array(2195.40234109)"
      ]
     },
     "execution_count": 72,
     "metadata": {},
     "output_type": "execute_result"
    }
   ],
   "source": [
    "top_region[120].values"
   ]
  },
  {
   "cell_type": "code",
   "execution_count": 74,
   "metadata": {},
   "outputs": [
    {
     "name": "stderr",
     "output_type": "stream",
     "text": [
      "WARNING:urllib3.connectionpool:Connection pool is full, discarding connection: www.googleapis.com\n",
      "WARNING:urllib3.connectionpool:Connection pool is full, discarding connection: www.googleapis.com\n",
      "WARNING:urllib3.connectionpool:Connection pool is full, discarding connection: www.googleapis.com\n",
      "WARNING:urllib3.connectionpool:Connection pool is full, discarding connection: www.googleapis.com\n",
      "WARNING:urllib3.connectionpool:Connection pool is full, discarding connection: www.googleapis.com\n",
      "WARNING:urllib3.connectionpool:Connection pool is full, discarding connection: www.googleapis.com\n"
     ]
    },
    {
     "data": {
      "text/plain": [
       "array(-431765.09999641)"
      ]
     },
     "execution_count": 74,
     "metadata": {},
     "output_type": "execute_result"
    }
   ],
   "source": [
    "top_region[79].values"
   ]
  },
  {
   "cell_type": "code",
   "execution_count": null,
   "metadata": {},
   "outputs": [],
   "source": [
    "top_region[79].values"
   ]
  },
  {
   "cell_type": "code",
   "execution_count": null,
   "metadata": {},
   "outputs": [],
   "source": []
  }
 ],
 "metadata": {
  "kernelspec": {
   "display_name": "Python 3",
   "language": "python",
   "name": "python3"
  },
  "language_info": {
   "codemirror_mode": {
    "name": "ipython",
    "version": 3
   },
   "file_extension": ".py",
   "mimetype": "text/x-python",
   "name": "python",
   "nbconvert_exporter": "python",
   "pygments_lexer": "ipython3",
   "version": "3.7.3"
  }
 },
 "nbformat": 4,
 "nbformat_minor": 4
}
