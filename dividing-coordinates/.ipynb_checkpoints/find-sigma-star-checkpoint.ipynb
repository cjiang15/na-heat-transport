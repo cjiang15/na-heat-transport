{
 "cells": [
  {
   "cell_type": "code",
   "execution_count": 1,
   "metadata": {},
   "outputs": [],
   "source": [
    "import xarray as xr\n",
    "import gcsfs\n",
    "from xmitgcm.llcreader.llcmodel import faces_dataset_to_latlon\n",
    "from matplotlib import pyplot as plt\n",
    "%matplotlib inline"
   ]
  },
  {
   "cell_type": "code",
   "execution_count": 2,
   "metadata": {},
   "outputs": [],
   "source": [
    "ds_faces = xr.open_zarr(gcsfs.GCSMap('pangeo-data/ECCO.zarr'))"
   ]
  },
  {
   "cell_type": "code",
   "execution_count": 2,
   "metadata": {},
   "outputs": [
    {
     "name": "stdout",
     "output_type": "stream",
     "text": [
      "Collecting git+https://github.com/xgcm/xmitgcm.git\n",
      "  Cloning https://github.com/xgcm/xmitgcm.git to /tmp/pip-req-build-jw5v0hle\n",
      "  Running command git clone -q https://github.com/xgcm/xmitgcm.git /tmp/pip-req-build-jw5v0hle\n",
      "Collecting fsspec\n",
      "Requirement already satisfied: zarr in /srv/conda/envs/notebook/lib/python3.6/site-packages (2.3.1)\n",
      "Requirement already satisfied: xarray>=0.10.1 in /srv/conda/envs/notebook/lib/python3.6/site-packages (from xmitgcm==0.3.0+4.g5324648) (0.12.1)\n",
      "Requirement already satisfied: dask>=0.12 in /srv/conda/envs/notebook/lib/python3.6/site-packages (from xmitgcm==0.3.0+4.g5324648) (1.2.2)\n",
      "Requirement already satisfied: numcodecs>=0.6.2 in /srv/conda/envs/notebook/lib/python3.6/site-packages (from zarr) (0.6.3)\n",
      "Requirement already satisfied: fasteners in /srv/conda/envs/notebook/lib/python3.6/site-packages (from zarr) (0.14.1)\n",
      "Requirement already satisfied: asciitree in /srv/conda/envs/notebook/lib/python3.6/site-packages (from zarr) (0.3.3)\n",
      "Requirement already satisfied: numpy>=1.7 in /srv/conda/envs/notebook/lib/python3.6/site-packages (from zarr) (1.16.3)\n",
      "Requirement already satisfied: pandas>=0.19.2 in /srv/conda/envs/notebook/lib/python3.6/site-packages (from xarray>=0.10.1->xmitgcm==0.3.0+4.g5324648) (0.24.2)\n",
      "Requirement already satisfied: six in /srv/conda/envs/notebook/lib/python3.6/site-packages (from fasteners->zarr) (1.12.0)\n",
      "Requirement already satisfied: monotonic>=0.1 in /srv/conda/envs/notebook/lib/python3.6/site-packages (from fasteners->zarr) (1.5)\n",
      "Requirement already satisfied: python-dateutil>=2.5.0 in /srv/conda/envs/notebook/lib/python3.6/site-packages (from pandas>=0.19.2->xarray>=0.10.1->xmitgcm==0.3.0+4.g5324648) (2.8.0)\n",
      "Requirement already satisfied: pytz>=2011k in /srv/conda/envs/notebook/lib/python3.6/site-packages (from pandas>=0.19.2->xarray>=0.10.1->xmitgcm==0.3.0+4.g5324648) (2019.1)\n",
      "Building wheels for collected packages: xmitgcm\n",
      "  Building wheel for xmitgcm (setup.py) ... \u001b[?25ldone\n",
      "\u001b[?25h  Stored in directory: /tmp/pip-ephem-wheel-cache-vdncs_8_/wheels/30/56/4a/2f821dca91af662f964a983b3855243a9de61945c506ee888e\n",
      "Successfully built xmitgcm\n",
      "Installing collected packages: fsspec, xmitgcm\n",
      "Successfully installed fsspec-0.2.3 xmitgcm-0.3.0+4.g5324648\n",
      "Collecting git+https://github.com/cspencerjones/xmitgcm@metric\n",
      "  Cloning https://github.com/cspencerjones/xmitgcm (to revision metric) to /tmp/pip-req-build-a_62pb46\n",
      "  Running command git clone -q https://github.com/cspencerjones/xmitgcm /tmp/pip-req-build-a_62pb46\n",
      "  Running command git checkout -b metric --track origin/metric\n",
      "  Switched to a new branch 'metric'\n",
      "  Branch 'metric' set up to track remote branch 'metric' from 'origin'.\n",
      "Requirement already satisfied: fsspec in /srv/conda/envs/notebook/lib/python3.6/site-packages (0.2.3)\n",
      "Requirement already satisfied: zarr in /srv/conda/envs/notebook/lib/python3.6/site-packages (2.3.1)\n",
      "Requirement already satisfied: xarray>=0.10.1 in /srv/conda/envs/notebook/lib/python3.6/site-packages (from xmitgcm==0.3.0+5.gbd93afd) (0.12.1)\n",
      "Requirement already satisfied: dask>=0.12 in /srv/conda/envs/notebook/lib/python3.6/site-packages (from xmitgcm==0.3.0+5.gbd93afd) (1.2.2)\n",
      "Requirement already satisfied: numpy>=1.7 in /srv/conda/envs/notebook/lib/python3.6/site-packages (from zarr) (1.16.3)\n",
      "Requirement already satisfied: fasteners in /srv/conda/envs/notebook/lib/python3.6/site-packages (from zarr) (0.14.1)\n",
      "Requirement already satisfied: numcodecs>=0.6.2 in /srv/conda/envs/notebook/lib/python3.6/site-packages (from zarr) (0.6.3)\n",
      "Requirement already satisfied: asciitree in /srv/conda/envs/notebook/lib/python3.6/site-packages (from zarr) (0.3.3)\n",
      "Requirement already satisfied: pandas>=0.19.2 in /srv/conda/envs/notebook/lib/python3.6/site-packages (from xarray>=0.10.1->xmitgcm==0.3.0+5.gbd93afd) (0.24.2)\n",
      "Requirement already satisfied: six in /srv/conda/envs/notebook/lib/python3.6/site-packages (from fasteners->zarr) (1.12.0)\n",
      "Requirement already satisfied: monotonic>=0.1 in /srv/conda/envs/notebook/lib/python3.6/site-packages (from fasteners->zarr) (1.5)\n",
      "Requirement already satisfied: python-dateutil>=2.5.0 in /srv/conda/envs/notebook/lib/python3.6/site-packages (from pandas>=0.19.2->xarray>=0.10.1->xmitgcm==0.3.0+5.gbd93afd) (2.8.0)\n",
      "Requirement already satisfied: pytz>=2011k in /srv/conda/envs/notebook/lib/python3.6/site-packages (from pandas>=0.19.2->xarray>=0.10.1->xmitgcm==0.3.0+5.gbd93afd) (2019.1)\n",
      "Building wheels for collected packages: xmitgcm\n",
      "  Building wheel for xmitgcm (setup.py) ... \u001b[?25ldone\n",
      "\u001b[?25h  Stored in directory: /tmp/pip-ephem-wheel-cache-u_d3f5hw/wheels/22/62/a2/2a606a4faba7cb0fa2ea3e034f256b73854ddba4eea1ef406d\n",
      "Successfully built xmitgcm\n",
      "Installing collected packages: xmitgcm\n",
      "  Found existing installation: xmitgcm 0.3.0+4.g5324648\n",
      "    Uninstalling xmitgcm-0.3.0+4.g5324648:\n",
      "      Successfully uninstalled xmitgcm-0.3.0+4.g5324648\n",
      "Successfully installed xmitgcm-0.3.0+5.gbd93afd\n"
     ]
    }
   ],
   "source": [
    "!pip install fsspec zarr git+https://github.com/xgcm/xmitgcm.git\n",
    "!pip install fsspec zarr git+https://github.com/cspencerjones/xmitgcm@metric"
   ]
  },
  {
   "cell_type": "code",
   "execution_count": 3,
   "metadata": {},
   "outputs": [],
   "source": [
    "#Apply Ryan's code to the dataset\n",
    "ds_ll=faces_dataset_to_latlon(ds_faces, metric_vector_pairs=[('LaHw3RHO','LaHs3RHO')])\n",
    "\n",
    "#Exclude 1992 and put the Atlantic in the middle \n",
    "ds = (ds_ll.reset_coords(drop=True).roll(i=180, roll_coords=False)).roll(i_g=180, roll_coords=False)\n",
    "\n",
    "#Make a corresponding dataset of the coordinates of ds, with the same conditions as above(?)\n",
    "coords = (ds_ll.coords.to_dataset().reset_coords().roll(i=180, roll_coords=False)).roll(i_g=180, roll_coords=False)"
   ]
  },
  {
   "cell_type": "code",
   "execution_count": 4,
   "metadata": {},
   "outputs": [],
   "source": [
    "#Masking nonAtl\n",
    "#takes in 2d, spits out 2d\n",
    "def masknonAtlantic(newMask):\n",
    "    newMask[215:, 0:150] = 0\n",
    "    newMask[215:, 260:] = 0\n",
    "    newMask[185:215, :120] = 0\n",
    "    newMask[185:215, 250:] = 0\n",
    "    newMask[:185, :145] = 0\n",
    "    newMask[:185, 245:] = 0\n",
    "    newMask[115:145, 135:155] = 0\n",
    "    for j in coords.j[55:125]:\n",
    "        for i in coords.i[205:245]:\n",
    "            if j < (7/4)*i - 303.75:\n",
    "                newMask[j,i] = 0\n",
    "    return newMask"
   ]
  },
  {
   "cell_type": "code",
   "execution_count": 22,
   "metadata": {},
   "outputs": [],
   "source": [
    "mask = masknonAtlantic(coords.hFacS.isel(k=0).load())\n",
    "vel = ds.LaVH3RHO * mask\n",
    "delta_z = ds.LaHs3RHO * mask"
   ]
  },
  {
   "cell_type": "code",
   "execution_count": 25,
   "metadata": {},
   "outputs": [],
   "source": [
    "top = vel.cumsum(['l3_c','i'])\n",
    "bottom = delta_z.cumsum(['l3_c','i'])\n",
    "net = top/bottom "
   ]
  },
  {
   "cell_type": "code",
   "execution_count": null,
   "metadata": {},
   "outputs": [
    {
     "name": "stderr",
     "output_type": "stream",
     "text": [
      "/srv/conda/envs/notebook/lib/python3.6/site-packages/dask/core.py:119: RuntimeWarning: invalid value encountered in true_divide\n",
      "  return func(*args2)\n"
     ]
    }
   ],
   "source": [
    "net.sum(['time', 'i']).plot()"
   ]
  },
  {
   "cell_type": "code",
   "execution_count": null,
   "metadata": {},
   "outputs": [],
   "source": []
  }
 ],
 "metadata": {
  "kernelspec": {
   "display_name": "Python 3",
   "language": "python",
   "name": "python3"
  },
  "language_info": {
   "codemirror_mode": {
    "name": "ipython",
    "version": 3
   },
   "file_extension": ".py",
   "mimetype": "text/x-python",
   "name": "python",
   "nbconvert_exporter": "python",
   "pygments_lexer": "ipython3",
   "version": "3.6.7"
  }
 },
 "nbformat": 4,
 "nbformat_minor": 2
}
