{
 "cells": [
  {
   "cell_type": "code",
   "execution_count": 2,
   "metadata": {},
   "outputs": [],
   "source": [
    "import os\n",
    "\n",
    "os.environ['NUMPY_EXPERIMENTAL_ARRAY_FUNCTION'] = '0'\n",
    "import xarray as xr\n",
    "from xmitgcm.llcreader.llcmodel import faces_dataset_to_latlon\n",
    "from matplotlib import pyplot as plt\n",
    "%matplotlib inline\n",
    "import numpy as np\n",
    "import intake\n",
    "import fsspec\n",
    "import xmitgcm"
   ]
  },
  {
   "cell_type": "code",
   "execution_count": 4,
   "metadata": {},
   "outputs": [],
   "source": [
    "cat = intake.Catalog(\"https://raw.githubusercontent.com/pangeo-data/pangeo-datastore/master/intake-catalogs/ocean.yaml\")\n",
    "cat = intake.Catalog(\"https://raw.githubusercontent.com/pangeo-data/pangeo-datastore/master/intake-catalogs/ocean.yaml\")\n",
    "ds_faces1 = cat[\"ECCOv4r3\"].to_dask()\n",
    "ds_faces2 = xr.open_zarr(fsspec.get_mapper('gcs://pangeo-data/ECCO_layers.zarr'))\n",
    "ds_faces=xr.merge((ds_faces1,ds_faces2))"
   ]
  },
  {
   "cell_type": "code",
   "execution_count": 8,
   "metadata": {},
   "outputs": [],
   "source": [
    "ds_ll = faces_dataset_to_latlon(ds_faces, metric_vector_pairs=[('LaHw3RHO','LaHs3RHO')])#.compute()\n",
    "ds = (ds_ll.reset_coords(drop=True).roll(i=180, roll_coords=False).roll(i_g=180, roll_coords=False))\n",
    "coords = (ds_ll.coords.to_dataset().reset_coords().roll(i=180, roll_coords=False).roll(i_g=180, roll_coords=False))"
   ]
  },
  {
   "cell_type": "code",
   "execution_count": 9,
   "metadata": {},
   "outputs": [],
   "source": [
    "#ds.dt \n",
    "dt = ds.time_snp[1:].load()\n",
    "dt.values = [float(t)/10**9 for t in np.diff(ds.time_snp)]\n",
    "dt = dt.rename({'time_snp':'time'})\n",
    "dt.time.values = ds.time[1:-1].values \n",
    "ds = ds.assign_coords(dt=dt)\n",
    "ds.dt.attrs = {'units': 's','standard_name': 'dt','coordinate': 'time','long_name': 'time span between snapshots'}"
   ]
  },
  {
   "cell_type": "code",
   "execution_count": 7,
   "metadata": {},
   "outputs": [],
   "source": [
    "#mask\n",
    "def atlMask(newMask):\n",
    "    #mask[ydimension, xdimnesion]\n",
    "    newMask[215:, 0:147] = 0 #fixes top left pixel\n",
    "    newMask[215:, 260:] = 0\n",
    "    newMask[185:215, :120] = 0\n",
    "    newMask[185:215, 260:] = 0 #right \n",
    "    newMask[185:199, 250:] = 0 #right\n",
    "    newMask[:185, :133] = 0 #responsible for bottom left pixel\n",
    "    newMask[:180, :141] = 0 #fixse bottom left pixeel \n",
    "    newMask[:185, 245:] = 0\n",
    "    newMask[115:145, 135:155] = 0\n",
    "    for j in coords.j[55:125]:\n",
    "        for i in coords.i[205:245]:\n",
    "            if j < (7/4)*i - 303.75:\n",
    "                newMask[j,i] = 0\n",
    "    return newMask\n",
    "mask = atlMask(coords.hFacS.isel(k=0).load())"
   ]
  },
  {
   "cell_type": "code",
   "execution_count": 10,
   "metadata": {},
   "outputs": [
    {
     "data": {
      "text/plain": [
       "[<matplotlib.lines.Line2D at 0x7f33dd8c4748>]"
      ]
     },
     "execution_count": 10,
     "metadata": {},
     "output_type": "execute_result"
    },
    {
     "data": {
      "image/png": "[encoded data removed]",
      "text/plain": [
       "<Figure size 432x288 with 1 Axes>"
      ]
     },
     "metadata": {
      "needs_background": "light"
     },
     "output_type": "display_data"
    }
   ],
   "source": [
    "#Top volume flux -> 15511280.39047292\n",
    "tr = (ds.LaVH3RHO * coords.dxG * mask)[:, :103, 220, :].sum('l3_c')\n",
    "tr1 = (tr*ds.dt).sum('time')/ds.dt.sum('time')\n",
    "top_region = (tr1.cumsum('i') - 15511280)[110:250]\n",
    "top_region.plot()"
   ]
  },
  {
   "cell_type": "code",
   "execution_count": 17,
   "metadata": {},
   "outputs": [
    {
     "data": {
      "text/plain": [
       "<xarray.DataArray (i: 140)>\n",
       "dask.array<shape=(140,), dtype=float64, chunksize=(70,)>\n",
       "Coordinates:\n",
       "    j_g      int64 220\n",
       "  * i        (i) int64 110 111 112 113 114 115 116 ... 244 245 246 247 248 249\n",
       "    k        int64 0"
      ]
     },
     "execution_count": 17,
     "metadata": {},
     "output_type": "execute_result"
    }
   ],
   "source": [
    "top_region = (tr1.cumsum('i') - 15511280)[110:250]\n",
    "top_region"
   ]
  },
  {
   "cell_type": "code",
   "execution_count": 66,
   "metadata": {},
   "outputs": [
    {
     "name": "stderr",
     "output_type": "stream",
     "text": [
      "WARNING:urllib3.connectionpool:Connection pool is full, discarding connection: www.googleapis.com\n",
      "WARNING:urllib3.connectionpool:Connection pool is full, discarding connection: www.googleapis.com\n",
      "WARNING:urllib3.connectionpool:Connection pool is full, discarding connection: www.googleapis.com\n",
      "WARNING:urllib3.connectionpool:Connection pool is full, discarding connection: www.googleapis.com\n",
      "WARNING:urllib3.connectionpool:Connection pool is full, discarding connection: www.googleapis.com\n",
      "WARNING:urllib3.connectionpool:Connection pool is full, discarding connection: www.googleapis.com\n"
     ]
    },
    {
     "data": {
      "text/plain": [
       "80"
      ]
     },
     "execution_count": 66,
     "metadata": {},
     "output_type": "execute_result"
    }
   ],
   "source": [
    "np.argmax(top_region.values>0)"
   ]
  },
  {
   "cell_type": "code",
   "execution_count": 70,
   "metadata": {},
   "outputs": [
    {
     "name": "stderr",
     "output_type": "stream",
     "text": [
      "WARNING:urllib3.connectionpool:Connection pool is full, discarding connection: www.googleapis.com\n",
      "WARNING:urllib3.connectionpool:Connection pool is full, discarding connection: www.googleapis.com\n",
      "WARNING:urllib3.connectionpool:Connection pool is full, discarding connection: www.googleapis.com\n",
      "WARNING:urllib3.connectionpool:Connection pool is full, discarding connection: www.googleapis.com\n",
      "WARNING:urllib3.connectionpool:Connection pool is full, discarding connection: www.googleapis.com\n",
      "WARNING:urllib3.connectionpool:Connection pool is full, discarding connection: www.googleapis.com\n"
     ]
    },
    {
     "data": {
      "text/plain": [
       "array(85348.4407521)"
      ]
     },
     "execution_count": 70,
     "metadata": {},
     "output_type": "execute_result"
    }
   ],
   "source": [
    "top_region[80].values"
   ]
  },
  {
   "cell_type": "code",
   "execution_count": 74,
   "metadata": {},
   "outputs": [
    {
     "name": "stderr",
     "output_type": "stream",
     "text": [
      "WARNING:urllib3.connectionpool:Connection pool is full, discarding connection: www.googleapis.com\n",
      "WARNING:urllib3.connectionpool:Connection pool is full, discarding connection: www.googleapis.com\n",
      "WARNING:urllib3.connectionpool:Connection pool is full, discarding connection: www.googleapis.com\n",
      "WARNING:urllib3.connectionpool:Connection pool is full, discarding connection: www.googleapis.com\n",
      "WARNING:urllib3.connectionpool:Connection pool is full, discarding connection: www.googleapis.com\n",
      "WARNING:urllib3.connectionpool:Connection pool is full, discarding connection: www.googleapis.com\n"
     ]
    },
    {
     "data": {
      "text/plain": [
       "array(-431765.09999641)"
      ]
     },
     "execution_count": 74,
     "metadata": {},
     "output_type": "execute_result"
    }
   ],
   "source": [
    "top_region[79].values"
   ]
  },
  {
   "cell_type": "code",
   "execution_count": null,
   "metadata": {},
   "outputs": [],
   "source": []
  }
 ],
 "metadata": {
  "kernelspec": {
   "display_name": "Python 3",
   "language": "python",
   "name": "python3"
  },
  "language_info": {
   "codemirror_mode": {
    "name": "ipython",
    "version": 3
   },
   "file_extension": ".py",
   "mimetype": "text/x-python",
   "name": "python",
   "nbconvert_exporter": "python",
   "pygments_lexer": "ipython3",
   "version": "3.7.3"
  }
 },
 "nbformat": 4,
 "nbformat_minor": 4
}
